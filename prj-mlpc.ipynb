{
 "cells": [
  {
   "cell_type": "code",
   "execution_count": 3,
   "metadata": {},
   "outputs": [],
   "source": [
    "import numpy as np\n",
    "import matplotlib.pyplot as plt\n",
    "import pandas as pd\n",
    "from sklearn.neural_network import MLPClassifier\n",
    "from sklearn.model_selection import train_test_split\n",
    "from PIL import Image\n",
    "from joblib import dump, load\n",
    "\n",
    "%matplotlib inline"
   ]
  },
  {
   "cell_type": "code",
   "execution_count": 261,
   "metadata": {},
   "outputs": [
    {
     "data": {
      "text/plain": [
       "60000"
      ]
     },
     "execution_count": 261,
     "metadata": {},
     "output_type": "execute_result"
    }
   ],
   "source": [
    "# Importing training data.\n",
    "data_train = pd.read_csv('mnist_train.csv')\n",
    "len(data_train)"
   ]
  },
  {
   "cell_type": "code",
   "execution_count": 272,
   "metadata": {},
   "outputs": [
    {
     "data": {
      "text/plain": [
       "(60000, 60000)"
      ]
     },
     "execution_count": 272,
     "metadata": {},
     "output_type": "execute_result"
    }
   ],
   "source": [
    "# Splitting into features and labels.\n",
    "x_train = data_train.drop('label', axis=1).astype('float32')/255\n",
    "y_train = data_train['label']\n",
    "len(x_train), len(y_train)"
   ]
  },
  {
   "cell_type": "code",
   "execution_count": 264,
   "metadata": {},
   "outputs": [
    {
     "data": {
      "text/plain": [
       "array([0, 1, 2, 3, 4, 5, 6, 7, 8, 9], dtype=int64)"
      ]
     },
     "execution_count": 264,
     "metadata": {},
     "output_type": "execute_result"
    }
   ],
   "source": [
    "# Finding out the unique labels.\n",
    "unique_labels = np.unique(y_train)\n",
    "unique_labels"
   ]
  },
  {
   "cell_type": "code",
   "execution_count": 265,
   "metadata": {},
   "outputs": [],
   "source": [
    "def encode_labels(y):\n",
    "    \"\"\"\n",
    "    This function converts the labels into their\n",
    "    one-hot encoded equivalent.\n",
    "    \"\"\"\n",
    "    y_enc = []\n",
    "    for i in range(len(y)):\n",
    "        y_enc.append((y[i] == unique_labels).astype(int))\n",
    "        \n",
    "    return np.array(y_enc)"
   ]
  },
  {
   "cell_type": "code",
   "execution_count": 266,
   "metadata": {},
   "outputs": [
    {
     "data": {
      "text/plain": [
       "array([[0, 0, 0, ..., 0, 0, 0],\n",
       "       [1, 0, 0, ..., 0, 0, 0],\n",
       "       [0, 0, 0, ..., 0, 0, 0],\n",
       "       ...,\n",
       "       [0, 0, 0, ..., 0, 0, 0],\n",
       "       [0, 0, 0, ..., 0, 0, 0],\n",
       "       [0, 0, 0, ..., 0, 1, 0]])"
      ]
     },
     "execution_count": 266,
     "metadata": {},
     "output_type": "execute_result"
    }
   ],
   "source": [
    "# Encoding the training labels.\n",
    "y_train_encoded = encode_labels(y_train)\n",
    "y_train_encoded"
   ]
  },
  {
   "cell_type": "code",
   "execution_count": 267,
   "metadata": {},
   "outputs": [
    {
     "name": "stdout",
     "output_type": "stream",
     "text": [
      "Iteration 1, loss = 1.34580704\n",
      "Validation score: 0.805833\n",
      "Iteration 2, loss = 0.62875170\n",
      "Validation score: 0.857667\n",
      "Iteration 3, loss = 0.48572432\n",
      "Validation score: 0.885833\n",
      "Iteration 4, loss = 0.39265251\n",
      "Validation score: 0.903833\n",
      "Iteration 5, loss = 0.32961198\n",
      "Validation score: 0.912167\n",
      "Iteration 6, loss = 0.28377151\n",
      "Validation score: 0.924000\n",
      "Iteration 7, loss = 0.25076370\n",
      "Validation score: 0.926500\n",
      "Iteration 8, loss = 0.22515969\n",
      "Validation score: 0.933167\n",
      "Iteration 9, loss = 0.20533962\n",
      "Validation score: 0.932167\n",
      "Iteration 10, loss = 0.18786829\n",
      "Validation score: 0.938333\n",
      "Iteration 11, loss = 0.17304292\n",
      "Validation score: 0.936333\n",
      "Iteration 12, loss = 0.15933087\n",
      "Validation score: 0.939667\n",
      "Iteration 13, loss = 0.14766584\n",
      "Validation score: 0.940167\n",
      "Iteration 14, loss = 0.13606382\n",
      "Validation score: 0.939000\n",
      "Iteration 15, loss = 0.12645194\n",
      "Validation score: 0.943000\n",
      "Iteration 16, loss = 0.11772558\n",
      "Validation score: 0.944500\n",
      "Iteration 17, loss = 0.10935074\n",
      "Validation score: 0.942500\n",
      "Iteration 18, loss = 0.10153395\n",
      "Validation score: 0.942833\n",
      "Iteration 19, loss = 0.09427603\n",
      "Validation score: 0.944500\n",
      "Iteration 20, loss = 0.08789077\n",
      "Validation score: 0.946667\n",
      "Iteration 21, loss = 0.08179378\n",
      "Validation score: 0.945500\n",
      "Iteration 22, loss = 0.07541056\n",
      "Validation score: 0.949333\n",
      "Iteration 23, loss = 0.07165513\n",
      "Validation score: 0.947500\n",
      "Iteration 24, loss = 0.06599947\n",
      "Validation score: 0.949333\n",
      "Iteration 25, loss = 0.06128346\n",
      "Validation score: 0.950000\n",
      "Iteration 26, loss = 0.05694268\n",
      "Validation score: 0.950667\n",
      "Iteration 27, loss = 0.05270427\n",
      "Validation score: 0.951667\n",
      "Iteration 28, loss = 0.04963707\n",
      "Validation score: 0.949000\n",
      "Iteration 29, loss = 0.04678278\n",
      "Validation score: 0.952500\n",
      "Iteration 30, loss = 0.04224443\n",
      "Validation score: 0.951833\n",
      "Iteration 31, loss = 0.03976855\n",
      "Validation score: 0.951833\n",
      "Iteration 32, loss = 0.03707573\n",
      "Validation score: 0.952833\n",
      "Iteration 33, loss = 0.03405267\n",
      "Validation score: 0.953833\n",
      "Iteration 34, loss = 0.03213929\n",
      "Validation score: 0.952333\n",
      "Iteration 35, loss = 0.03078230\n",
      "Validation score: 0.952167\n",
      "Iteration 36, loss = 0.02739048\n",
      "Validation score: 0.950833\n",
      "Iteration 37, loss = 0.02607083\n",
      "Validation score: 0.952000\n",
      "Iteration 38, loss = 0.02369785\n",
      "Validation score: 0.950833\n",
      "Iteration 39, loss = 0.02195754\n",
      "Validation score: 0.953167\n",
      "Iteration 40, loss = 0.02121754\n",
      "Validation score: 0.953167\n",
      "Iteration 41, loss = 0.01900673\n",
      "Validation score: 0.952333\n",
      "Iteration 42, loss = 0.01759224\n",
      "Validation score: 0.952667\n",
      "Iteration 43, loss = 0.01649646\n",
      "Validation score: 0.954167\n",
      "Iteration 44, loss = 0.01523436\n",
      "Validation score: 0.952333\n",
      "Iteration 45, loss = 0.01455565\n",
      "Validation score: 0.953333\n",
      "Iteration 46, loss = 0.01354429\n",
      "Validation score: 0.955833\n",
      "Iteration 47, loss = 0.01241037\n",
      "Validation score: 0.954833\n",
      "Iteration 48, loss = 0.01149116\n",
      "Validation score: 0.952333\n",
      "Iteration 49, loss = 0.01091664\n",
      "Validation score: 0.955167\n",
      "Iteration 50, loss = 0.01016755\n",
      "Validation score: 0.954167\n",
      "Iteration 51, loss = 0.00915875\n",
      "Validation score: 0.953000\n",
      "Iteration 52, loss = 0.00853967\n",
      "Validation score: 0.952500\n",
      "Iteration 53, loss = 0.00817851\n",
      "Validation score: 0.954500\n",
      "Iteration 54, loss = 0.00734434\n",
      "Validation score: 0.954500\n",
      "Iteration 55, loss = 0.00712595\n",
      "Validation score: 0.953500\n",
      "Iteration 56, loss = 0.00704586\n",
      "Validation score: 0.954500\n",
      "Iteration 57, loss = 0.00607988\n",
      "Validation score: 0.952333\n",
      "Validation score did not improve more than tol=0.000100 for 10 consecutive epochs. Stopping.\n"
     ]
    },
    {
     "data": {
      "text/plain": [
       "MLPClassifier(activation='relu', alpha=0.0001, batch_size='auto', beta_1=0.9,\n",
       "              beta_2=0.999, early_stopping=True, epsilon=1e-08,\n",
       "              hidden_layer_sizes=(100,), learning_rate='constant',\n",
       "              learning_rate_init=0.001, max_fun=15000, max_iter=500,\n",
       "              momentum=0.9, n_iter_no_change=10, nesterovs_momentum=True,\n",
       "              power_t=0.5, random_state=10, shuffle=True, solver='adam',\n",
       "              tol=0.0001, validation_fraction=0.1, verbose=True,\n",
       "              warm_start=False)"
      ]
     },
     "execution_count": 267,
     "metadata": {},
     "output_type": "execute_result"
    }
   ],
   "source": [
    "# Instantiate model.\n",
    "model = MLPClassifier(verbose=True,\n",
    "                      random_state=10,\n",
    "                      shuffle=True,\n",
    "                      early_stopping=True,\n",
    "                      max_iter=500)\n",
    "\n",
    "# Fit data to the model.\n",
    "model.fit(x_train, y_train_encoded)"
   ]
  },
  {
   "cell_type": "code",
   "execution_count": 268,
   "metadata": {},
   "outputs": [
    {
     "data": {
      "text/plain": [
       "['digit_classifier_t1.joblib']"
      ]
     },
     "execution_count": 268,
     "metadata": {},
     "output_type": "execute_result"
    }
   ],
   "source": [
    "# Saving trained model.\n",
    "dump(model, 'digit_classifier_t1.joblib')"
   ]
  },
  {
   "cell_type": "code",
   "execution_count": 8,
   "metadata": {},
   "outputs": [],
   "source": [
    "# Loading saved model.\n",
    "model = load('digit_classifier_t1.joblib')"
   ]
  },
  {
   "cell_type": "code",
   "execution_count": 270,
   "metadata": {},
   "outputs": [
    {
     "data": {
      "text/plain": [
       "10000"
      ]
     },
     "execution_count": 270,
     "metadata": {},
     "output_type": "execute_result"
    }
   ],
   "source": [
    "# Importing test data.\n",
    "data_test = pd.read_csv('mnist_test.csv')\n",
    "len(data_test)"
   ]
  },
  {
   "cell_type": "code",
   "execution_count": 271,
   "metadata": {},
   "outputs": [
    {
     "data": {
      "text/plain": [
       "(10000, 10000)"
      ]
     },
     "execution_count": 271,
     "metadata": {},
     "output_type": "execute_result"
    }
   ],
   "source": [
    "# Splitting into features and labels.\n",
    "x_test = data_test.drop('label', axis=1).astype('float32')/255\n",
    "y_test = data_test['label']\n",
    "len(x_test), len(y_test)"
   ]
  },
  {
   "cell_type": "code",
   "execution_count": 273,
   "metadata": {},
   "outputs": [
    {
     "data": {
      "text/plain": [
       "array([[0, 0, 0, ..., 1, 0, 0],\n",
       "       [0, 0, 1, ..., 0, 0, 0],\n",
       "       [0, 1, 0, ..., 0, 0, 0],\n",
       "       ...,\n",
       "       [0, 0, 0, ..., 0, 0, 0],\n",
       "       [0, 0, 0, ..., 0, 0, 0],\n",
       "       [0, 0, 0, ..., 0, 0, 0]])"
      ]
     },
     "execution_count": 273,
     "metadata": {},
     "output_type": "execute_result"
    }
   ],
   "source": [
    "# Encoding the test labels.\n",
    "y_test_encoded = encode_labels(y_test)\n",
    "y_test_encoded"
   ]
  },
  {
   "cell_type": "code",
   "execution_count": 274,
   "metadata": {},
   "outputs": [
    {
     "data": {
      "text/plain": [
       "0.9584"
      ]
     },
     "execution_count": 274,
     "metadata": {},
     "output_type": "execute_result"
    }
   ],
   "source": [
    "# Scoring the model.\n",
    "model.score(x_test, y_test_encoded)"
   ]
  },
  {
   "cell_type": "code",
   "execution_count": 4,
   "metadata": {},
   "outputs": [],
   "source": [
    "def process_pred(pred):\n",
    "    \"\"\"\n",
    "    This function returnns the digit predicted\n",
    "    by the model.\n",
    "    \"\"\"\n",
    "    return np.argmax(pred)"
   ]
  },
  {
   "cell_type": "code",
   "execution_count": 5,
   "metadata": {},
   "outputs": [],
   "source": [
    "def resize_center_image(old_im):\n",
    "    old_im = old_im.resize((20,20))\n",
    "    old_size = old_im.size\n",
    "\n",
    "    new_size = (28, 28)\n",
    "    new_im = Image.new(\"L\", new_size) \n",
    "    new_im.paste(old_im, (4,4))\n",
    "\n",
    "    return new_im"
   ]
  },
  {
   "cell_type": "code",
   "execution_count": 6,
   "metadata": {},
   "outputs": [],
   "source": [
    "def process_image(image_path):\n",
    "    \"\"\"\n",
    "    Processes the given image.\n",
    "    \"\"\"\n",
    "    im = Image.open(image_path)\n",
    "    im = resize_center_image(im)\n",
    "    return pd.DataFrame(np.asarray(im).flatten().astype(float)/255).T"
   ]
  },
  {
   "cell_type": "code",
   "execution_count": 7,
   "metadata": {},
   "outputs": [],
   "source": [
    "def show_image(image_path):\n",
    "    \"\"\"\n",
    "    Displays processed image.\n",
    "    \"\"\"\n",
    "    im = Image.open(image_path)\n",
    "    im = resize_center_image(im)\n",
    "    return im"
   ]
  },
  {
   "cell_type": "code",
   "execution_count": 1,
   "metadata": {},
   "outputs": [],
   "source": [
    "IMG_PATH = 'test_img/test_6.png'"
   ]
  },
  {
   "cell_type": "code",
   "execution_count": 9,
   "metadata": {},
   "outputs": [
    {
     "data": {
      "image/png": "[encoded data removed]",
      "text/plain": [
       "<PIL.Image.Image image mode=L size=28x28 at 0x1E1AD6B1B20>"
      ]
     },
     "execution_count": 9,
     "metadata": {},
     "output_type": "execute_result"
    }
   ],
   "source": [
    "show_image(IMG_PATH)"
   ]
  },
  {
   "cell_type": "code",
   "execution_count": 10,
   "metadata": {},
   "outputs": [
    {
     "data": {
      "text/html": [
       "<div>\n",
       "<style scoped>\n",
       "    .dataframe tbody tr th:only-of-type {\n",
       "        vertical-align: middle;\n",
       "    }\n",
       "\n",
       "    .dataframe tbody tr th {\n",
       "        vertical-align: top;\n",
       "    }\n",
       "\n",
       "    .dataframe thead th {\n",
       "        text-align: right;\n",
       "    }\n",
       "</style>\n",
       "<table border=\"1\" class=\"dataframe\">\n",
       "  <thead>\n",
       "    <tr style=\"text-align: right;\">\n",
       "      <th></th>\n",
       "      <th>0</th>\n",
       "      <th>1</th>\n",
       "      <th>2</th>\n",
       "      <th>3</th>\n",
       "      <th>4</th>\n",
       "      <th>5</th>\n",
       "      <th>6</th>\n",
       "      <th>7</th>\n",
       "      <th>8</th>\n",
       "      <th>9</th>\n",
       "      <th>...</th>\n",
       "      <th>774</th>\n",
       "      <th>775</th>\n",
       "      <th>776</th>\n",
       "      <th>777</th>\n",
       "      <th>778</th>\n",
       "      <th>779</th>\n",
       "      <th>780</th>\n",
       "      <th>781</th>\n",
       "      <th>782</th>\n",
       "      <th>783</th>\n",
       "    </tr>\n",
       "  </thead>\n",
       "  <tbody>\n",
       "    <tr>\n",
       "      <th>0</th>\n",
       "      <td>0.0</td>\n",
       "      <td>0.0</td>\n",
       "      <td>0.0</td>\n",
       "      <td>0.0</td>\n",
       "      <td>0.0</td>\n",
       "      <td>0.0</td>\n",
       "      <td>0.0</td>\n",
       "      <td>0.0</td>\n",
       "      <td>0.0</td>\n",
       "      <td>0.0</td>\n",
       "      <td>...</td>\n",
       "      <td>0.0</td>\n",
       "      <td>0.0</td>\n",
       "      <td>0.0</td>\n",
       "      <td>0.0</td>\n",
       "      <td>0.0</td>\n",
       "      <td>0.0</td>\n",
       "      <td>0.0</td>\n",
       "      <td>0.0</td>\n",
       "      <td>0.0</td>\n",
       "      <td>0.0</td>\n",
       "    </tr>\n",
       "  </tbody>\n",
       "</table>\n",
       "<p>1 rows × 784 columns</p>\n",
       "</div>"
      ],
      "text/plain": [
       "   0    1    2    3    4    5    6    7    8    9    ...  774  775  776  777  \\\n",
       "0  0.0  0.0  0.0  0.0  0.0  0.0  0.0  0.0  0.0  0.0  ...  0.0  0.0  0.0  0.0   \n",
       "\n",
       "   778  779  780  781  782  783  \n",
       "0  0.0  0.0  0.0  0.0  0.0  0.0  \n",
       "\n",
       "[1 rows x 784 columns]"
      ]
     },
     "execution_count": 10,
     "metadata": {},
     "output_type": "execute_result"
    }
   ],
   "source": [
    "process_image(IMG_PATH)"
   ]
  },
  {
   "cell_type": "code",
   "execution_count": 11,
   "metadata": {},
   "outputs": [],
   "source": [
    "pred = model.predict(process_image(IMG_PATH))"
   ]
  },
  {
   "cell_type": "code",
   "execution_count": 12,
   "metadata": {},
   "outputs": [
    {
     "data": {
      "text/plain": [
       "6"
      ]
     },
     "execution_count": 12,
     "metadata": {},
     "output_type": "execute_result"
    }
   ],
   "source": [
    "process_pred(pred)"
   ]
  },
  {
   "cell_type": "code",
   "execution_count": null,
   "metadata": {},
   "outputs": [],
   "source": []
  }
 ],
 "metadata": {
  "kernelspec": {
   "display_name": "Python 3",
   "language": "python",
   "name": "python3"
  },
  "language_info": {
   "codemirror_mode": {
    "name": "ipython",
    "version": 3
   },
   "file_extension": ".py",
   "mimetype": "text/x-python",
   "name": "python",
   "nbconvert_exporter": "python",
   "pygments_lexer": "ipython3",
   "version": "3.8.1"
  }
 },
 "nbformat": 4,
 "nbformat_minor": 4
}
