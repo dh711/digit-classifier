{
 "cells": [
  {
   "cell_type": "code",
   "execution_count": 1,
   "metadata": {},
   "outputs": [],
   "source": [
    "import numpy as np\n",
    "import matplotlib.pyplot as plt\n",
    "import pandas as pd\n",
    "from sklearn.neural_network import MLPClassifier\n",
    "from sklearn.model_selection import train_test_split\n",
    "from PIL import Image\n",
    "from joblib import dump, load\n",
    "\n",
    "%matplotlib inline"
   ]
  },
  {
   "cell_type": "code",
   "execution_count": 2,
   "metadata": {},
   "outputs": [
    {
     "data": {
      "text/plain": [
       "60000"
      ]
     },
     "execution_count": 2,
     "metadata": {},
     "output_type": "execute_result"
    }
   ],
   "source": [
    "# Importing training data.\n",
    "data_train = pd.read_csv('mnist_train.csv')\n",
    "len(data_train)"
   ]
  },
  {
   "cell_type": "code",
   "execution_count": 3,
   "metadata": {},
   "outputs": [
    {
     "data": {
      "text/plain": [
       "(60000, 60000)"
      ]
     },
     "execution_count": 3,
     "metadata": {},
     "output_type": "execute_result"
    }
   ],
   "source": [
    "# Splitting into features and labels.\n",
    "x_train = data_train.drop('label', axis=1).astype('float32')/255\n",
    "y_train = data_train['label']\n",
    "len(x_train), len(y_train)"
   ]
  },
  {
   "cell_type": "code",
   "execution_count": 4,
   "metadata": {},
   "outputs": [
    {
     "data": {
      "text/plain": [
       "array([0, 1, 2, 3, 4, 5, 6, 7, 8, 9], dtype=int64)"
      ]
     },
     "execution_count": 4,
     "metadata": {},
     "output_type": "execute_result"
    }
   ],
   "source": [
    "# Finding out the unique labels.\n",
    "unique_labels = np.unique(y_train)\n",
    "unique_labels"
   ]
  },
  {
   "cell_type": "code",
   "execution_count": 5,
   "metadata": {},
   "outputs": [],
   "source": [
    "def encode_labels(y):\n",
    "    \"\"\"\n",
    "    This function converts the labels into their\n",
    "    one-hot encoded equivalent.\n",
    "    \"\"\"\n",
    "    y_enc = []\n",
    "    for i in range(len(y)):\n",
    "        y_enc.append((y[i] == unique_labels).astype(int))\n",
    "        \n",
    "    return np.array(y_enc)"
   ]
  },
  {
   "cell_type": "code",
   "execution_count": 6,
   "metadata": {},
   "outputs": [
    {
     "data": {
      "text/plain": [
       "array([[0, 0, 0, ..., 0, 0, 0],\n",
       "       [1, 0, 0, ..., 0, 0, 0],\n",
       "       [0, 0, 0, ..., 0, 0, 0],\n",
       "       ...,\n",
       "       [0, 0, 0, ..., 0, 0, 0],\n",
       "       [0, 0, 0, ..., 0, 0, 0],\n",
       "       [0, 0, 0, ..., 0, 1, 0]])"
      ]
     },
     "execution_count": 6,
     "metadata": {},
     "output_type": "execute_result"
    }
   ],
   "source": [
    "# Encoding the training labels.\n",
    "y_train_encoded = encode_labels(y_train)\n",
    "y_train_encoded"
   ]
  },
  {
   "cell_type": "code",
   "execution_count": 267,
   "metadata": {},
   "outputs": [
    {
     "name": "stdout",
     "output_type": "stream",
     "text": [
      "Iteration 1, loss = 1.34580704\n",
      "Validation score: 0.805833\n",
      "Iteration 2, loss = 0.62875170\n",
      "Validation score: 0.857667\n",
      "Iteration 3, loss = 0.48572432\n",
      "Validation score: 0.885833\n",
      "Iteration 4, loss = 0.39265251\n",
      "Validation score: 0.903833\n",
      "Iteration 5, loss = 0.32961198\n",
      "Validation score: 0.912167\n",
      "Iteration 6, loss = 0.28377151\n",
      "Validation score: 0.924000\n",
      "Iteration 7, loss = 0.25076370\n",
      "Validation score: 0.926500\n",
      "Iteration 8, loss = 0.22515969\n",
      "Validation score: 0.933167\n",
      "Iteration 9, loss = 0.20533962\n",
      "Validation score: 0.932167\n",
      "Iteration 10, loss = 0.18786829\n",
      "Validation score: 0.938333\n",
      "Iteration 11, loss = 0.17304292\n",
      "Validation score: 0.936333\n",
      "Iteration 12, loss = 0.15933087\n",
      "Validation score: 0.939667\n",
      "Iteration 13, loss = 0.14766584\n",
      "Validation score: 0.940167\n",
      "Iteration 14, loss = 0.13606382\n",
      "Validation score: 0.939000\n",
      "Iteration 15, loss = 0.12645194\n",
      "Validation score: 0.943000\n",
      "Iteration 16, loss = 0.11772558\n",
      "Validation score: 0.944500\n",
      "Iteration 17, loss = 0.10935074\n",
      "Validation score: 0.942500\n",
      "Iteration 18, loss = 0.10153395\n",
      "Validation score: 0.942833\n",
      "Iteration 19, loss = 0.09427603\n",
      "Validation score: 0.944500\n",
      "Iteration 20, loss = 0.08789077\n",
      "Validation score: 0.946667\n",
      "Iteration 21, loss = 0.08179378\n",
      "Validation score: 0.945500\n",
      "Iteration 22, loss = 0.07541056\n",
      "Validation score: 0.949333\n",
      "Iteration 23, loss = 0.07165513\n",
      "Validation score: 0.947500\n",
      "Iteration 24, loss = 0.06599947\n",
      "Validation score: 0.949333\n",
      "Iteration 25, loss = 0.06128346\n",
      "Validation score: 0.950000\n",
      "Iteration 26, loss = 0.05694268\n",
      "Validation score: 0.950667\n",
      "Iteration 27, loss = 0.05270427\n",
      "Validation score: 0.951667\n",
      "Iteration 28, loss = 0.04963707\n",
      "Validation score: 0.949000\n",
      "Iteration 29, loss = 0.04678278\n",
      "Validation score: 0.952500\n",
      "Iteration 30, loss = 0.04224443\n",
      "Validation score: 0.951833\n",
      "Iteration 31, loss = 0.03976855\n",
      "Validation score: 0.951833\n",
      "Iteration 32, loss = 0.03707573\n",
      "Validation score: 0.952833\n",
      "Iteration 33, loss = 0.03405267\n",
      "Validation score: 0.953833\n",
      "Iteration 34, loss = 0.03213929\n",
      "Validation score: 0.952333\n",
      "Iteration 35, loss = 0.03078230\n",
      "Validation score: 0.952167\n",
      "Iteration 36, loss = 0.02739048\n",
      "Validation score: 0.950833\n",
      "Iteration 37, loss = 0.02607083\n",
      "Validation score: 0.952000\n",
      "Iteration 38, loss = 0.02369785\n",
      "Validation score: 0.950833\n",
      "Iteration 39, loss = 0.02195754\n",
      "Validation score: 0.953167\n",
      "Iteration 40, loss = 0.02121754\n",
      "Validation score: 0.953167\n",
      "Iteration 41, loss = 0.01900673\n",
      "Validation score: 0.952333\n",
      "Iteration 42, loss = 0.01759224\n",
      "Validation score: 0.952667\n",
      "Iteration 43, loss = 0.01649646\n",
      "Validation score: 0.954167\n",
      "Iteration 44, loss = 0.01523436\n",
      "Validation score: 0.952333\n",
      "Iteration 45, loss = 0.01455565\n",
      "Validation score: 0.953333\n",
      "Iteration 46, loss = 0.01354429\n",
      "Validation score: 0.955833\n",
      "Iteration 47, loss = 0.01241037\n",
      "Validation score: 0.954833\n",
      "Iteration 48, loss = 0.01149116\n",
      "Validation score: 0.952333\n",
      "Iteration 49, loss = 0.01091664\n",
      "Validation score: 0.955167\n",
      "Iteration 50, loss = 0.01016755\n",
      "Validation score: 0.954167\n",
      "Iteration 51, loss = 0.00915875\n",
      "Validation score: 0.953000\n",
      "Iteration 52, loss = 0.00853967\n",
      "Validation score: 0.952500\n",
      "Iteration 53, loss = 0.00817851\n",
      "Validation score: 0.954500\n",
      "Iteration 54, loss = 0.00734434\n",
      "Validation score: 0.954500\n",
      "Iteration 55, loss = 0.00712595\n",
      "Validation score: 0.953500\n",
      "Iteration 56, loss = 0.00704586\n",
      "Validation score: 0.954500\n",
      "Iteration 57, loss = 0.00607988\n",
      "Validation score: 0.952333\n",
      "Validation score did not improve more than tol=0.000100 for 10 consecutive epochs. Stopping.\n"
     ]
    },
    {
     "data": {
      "text/plain": [
       "MLPClassifier(activation='relu', alpha=0.0001, batch_size='auto', beta_1=0.9,\n",
       "              beta_2=0.999, early_stopping=True, epsilon=1e-08,\n",
       "              hidden_layer_sizes=(100,), learning_rate='constant',\n",
       "              learning_rate_init=0.001, max_fun=15000, max_iter=500,\n",
       "              momentum=0.9, n_iter_no_change=10, nesterovs_momentum=True,\n",
       "              power_t=0.5, random_state=10, shuffle=True, solver='adam',\n",
       "              tol=0.0001, validation_fraction=0.1, verbose=True,\n",
       "              warm_start=False)"
      ]
     },
     "execution_count": 267,
     "metadata": {},
     "output_type": "execute_result"
    }
   ],
   "source": [
    "# Instantiate model.\n",
    "model = MLPClassifier(verbose=True,\n",
    "                      random_state=10,\n",
    "                      shuffle=True,\n",
    "                      early_stopping=True,\n",
    "                      max_iter=500)\n",
    "\n",
    "# Fit data to the model.\n",
    "model.fit(x_train, y_train_encoded)"
   ]
  },
  {
   "cell_type": "code",
   "execution_count": 268,
   "metadata": {},
   "outputs": [
    {
     "data": {
      "text/plain": [
       "['digit_classifier_t1.joblib']"
      ]
     },
     "execution_count": 268,
     "metadata": {},
     "output_type": "execute_result"
    }
   ],
   "source": [
    "# Saving trained model.\n",
    "dump(model, 'digit_classifier_t1.joblib')"
   ]
  },
  {
   "cell_type": "code",
   "execution_count": 18,
   "metadata": {},
   "outputs": [],
   "source": [
    "# Loading saved model.\n",
    "model = load('digit_classifier_t1.joblib')"
   ]
  },
  {
   "cell_type": "code",
   "execution_count": 7,
   "metadata": {},
   "outputs": [
    {
     "data": {
      "text/plain": [
       "10000"
      ]
     },
     "execution_count": 7,
     "metadata": {},
     "output_type": "execute_result"
    }
   ],
   "source": [
    "# Importing test data.\n",
    "data_test = pd.read_csv('mnist_test.csv')\n",
    "len(data_test)"
   ]
  },
  {
   "cell_type": "code",
   "execution_count": 8,
   "metadata": {},
   "outputs": [
    {
     "data": {
      "text/plain": [
       "(10000, 10000)"
      ]
     },
     "execution_count": 8,
     "metadata": {},
     "output_type": "execute_result"
    }
   ],
   "source": [
    "# Splitting into features and labels.\n",
    "x_test = data_test.drop('label', axis=1).astype('float32')/255\n",
    "y_test = data_test['label']\n",
    "len(x_test), len(y_test)"
   ]
  },
  {
   "cell_type": "code",
   "execution_count": 9,
   "metadata": {},
   "outputs": [
    {
     "data": {
      "text/plain": [
       "array([[0, 0, 0, ..., 1, 0, 0],\n",
       "       [0, 0, 1, ..., 0, 0, 0],\n",
       "       [0, 1, 0, ..., 0, 0, 0],\n",
       "       ...,\n",
       "       [0, 0, 0, ..., 0, 0, 0],\n",
       "       [0, 0, 0, ..., 0, 0, 0],\n",
       "       [0, 0, 0, ..., 0, 0, 0]])"
      ]
     },
     "execution_count": 9,
     "metadata": {},
     "output_type": "execute_result"
    }
   ],
   "source": [
    "# Encoding the test labels.\n",
    "y_test_encoded = encode_labels(y_test)\n",
    "y_test_encoded"
   ]
  },
  {
   "cell_type": "code",
   "execution_count": 11,
   "metadata": {},
   "outputs": [
    {
     "data": {
      "text/plain": [
       "0.9584"
      ]
     },
     "execution_count": 11,
     "metadata": {},
     "output_type": "execute_result"
    }
   ],
   "source": [
    "# Scoring the model.\n",
    "model.score(x_test, y_test_encoded)"
   ]
  },
  {
   "cell_type": "code",
   "execution_count": 10,
   "metadata": {},
   "outputs": [],
   "source": [
    "def process_pred(pred):\n",
    "    \"\"\"\n",
    "    This function returnns the digit predicted\n",
    "    by the model.\n",
    "    \"\"\"\n",
    "    return np.argmax(pred)"
   ]
  },
  {
   "cell_type": "code",
   "execution_count": 11,
   "metadata": {},
   "outputs": [],
   "source": [
    "def resize_center_image(old_im):\n",
    "    old_im = old_im.resize((20,20))\n",
    "    old_size = old_im.size\n",
    "\n",
    "    new_size = (28, 28)\n",
    "    new_im = Image.new(\"L\", new_size) \n",
    "    new_im.paste(old_im, (4,4))\n",
    "\n",
    "    return new_im"
   ]
  },
  {
   "cell_type": "code",
   "execution_count": 12,
   "metadata": {},
   "outputs": [],
   "source": [
    "def process_image(image_path):\n",
    "    \"\"\"\n",
    "    Processes the given image.\n",
    "    \"\"\"\n",
    "    im = Image.open(image_path)\n",
    "    im = resize_center_image(im)\n",
    "    return pd.DataFrame(np.asarray(im).flatten().astype(float)/255).T"
   ]
  },
  {
   "cell_type": "code",
   "execution_count": 13,
   "metadata": {},
   "outputs": [],
   "source": [
    "def show_image(image_path):\n",
    "    \"\"\"\n",
    "    Displays processed image.\n",
    "    \"\"\"\n",
    "    im = Image.open(image_path)\n",
    "    im = resize_center_image(im)\n",
    "    return im"
   ]
  },
  {
   "cell_type": "code",
   "execution_count": 46,
   "metadata": {},
   "outputs": [],
   "source": [
    "IMG_PATH = 'test_img/test_3.png'"
   ]
  },
  {
   "cell_type": "code",
   "execution_count": 47,
   "metadata": {},
   "outputs": [
    {
     "data": {
      "image/png": "[encoded data removed]",
      "text/plain": [
       "<PIL.Image.Image image mode=L size=28x28 at 0x27806BFFAF0>"
      ]
     },
     "execution_count": 47,
     "metadata": {},
     "output_type": "execute_result"
    }
   ],
   "source": [
    "show_image(IMG_PATH)"
   ]
  },
  {
   "cell_type": "code",
   "execution_count": 48,
   "metadata": {},
   "outputs": [
    {
     "data": {
      "text/html": [
       "<div>\n",
       "<style scoped>\n",
       "    .dataframe tbody tr th:only-of-type {\n",
       "        vertical-align: middle;\n",
       "    }\n",
       "\n",
       "    .dataframe tbody tr th {\n",
       "        vertical-align: top;\n",
       "    }\n",
       "\n",
       "    .dataframe thead th {\n",
       "        text-align: right;\n",
       "    }\n",
       "</style>\n",
       "<table border=\"1\" class=\"dataframe\">\n",
       "  <thead>\n",
       "    <tr style=\"text-align: right;\">\n",
       "      <th></th>\n",
       "      <th>0</th>\n",
       "      <th>1</th>\n",
       "      <th>2</th>\n",
       "      <th>3</th>\n",
       "      <th>4</th>\n",
       "      <th>5</th>\n",
       "      <th>6</th>\n",
       "      <th>7</th>\n",
       "      <th>8</th>\n",
       "      <th>9</th>\n",
       "      <th>...</th>\n",
       "      <th>774</th>\n",
       "      <th>775</th>\n",
       "      <th>776</th>\n",
       "      <th>777</th>\n",
       "      <th>778</th>\n",
       "      <th>779</th>\n",
       "      <th>780</th>\n",
       "      <th>781</th>\n",
       "      <th>782</th>\n",
       "      <th>783</th>\n",
       "    </tr>\n",
       "  </thead>\n",
       "  <tbody>\n",
       "    <tr>\n",
       "      <th>0</th>\n",
       "      <td>0.0</td>\n",
       "      <td>0.0</td>\n",
       "      <td>0.0</td>\n",
       "      <td>0.0</td>\n",
       "      <td>0.0</td>\n",
       "      <td>0.0</td>\n",
       "      <td>0.0</td>\n",
       "      <td>0.0</td>\n",
       "      <td>0.0</td>\n",
       "      <td>0.0</td>\n",
       "      <td>...</td>\n",
       "      <td>0.0</td>\n",
       "      <td>0.0</td>\n",
       "      <td>0.0</td>\n",
       "      <td>0.0</td>\n",
       "      <td>0.0</td>\n",
       "      <td>0.0</td>\n",
       "      <td>0.0</td>\n",
       "      <td>0.0</td>\n",
       "      <td>0.0</td>\n",
       "      <td>0.0</td>\n",
       "    </tr>\n",
       "  </tbody>\n",
       "</table>\n",
       "<p>1 rows × 784 columns</p>\n",
       "</div>"
      ],
      "text/plain": [
       "   0    1    2    3    4    5    6    7    8    9    ...  774  775  776  777  \\\n",
       "0  0.0  0.0  0.0  0.0  0.0  0.0  0.0  0.0  0.0  0.0  ...  0.0  0.0  0.0  0.0   \n",
       "\n",
       "   778  779  780  781  782  783  \n",
       "0  0.0  0.0  0.0  0.0  0.0  0.0  \n",
       "\n",
       "[1 rows x 784 columns]"
      ]
     },
     "execution_count": 48,
     "metadata": {},
     "output_type": "execute_result"
    }
   ],
   "source": [
    "process_image(IMG_PATH)"
   ]
  },
  {
   "cell_type": "code",
   "execution_count": 49,
   "metadata": {},
   "outputs": [],
   "source": [
    "pred = model.predict(process_image(IMG_PATH))"
   ]
  },
  {
   "cell_type": "code",
   "execution_count": 50,
   "metadata": {},
   "outputs": [
    {
     "data": {
      "text/plain": [
       "0"
      ]
     },
     "execution_count": 50,
     "metadata": {},
     "output_type": "execute_result"
    }
   ],
   "source": [
    "process_pred(pred)"
   ]
  },
  {
   "cell_type": "code",
   "execution_count": 23,
   "metadata": {},
   "outputs": [
    {
     "data": {
      "text/plain": [
       "3"
      ]
     },
     "execution_count": 23,
     "metadata": {},
     "output_type": "execute_result"
    }
   ],
   "source": [
    "model.n_layers_"
   ]
  },
  {
   "cell_type": "code",
   "execution_count": 21,
   "metadata": {},
   "outputs": [
    {
     "name": "stdout",
     "output_type": "stream",
     "text": [
      "Iteration 1, loss = 1.31353039\n",
      "Validation score: 0.867000\n",
      "Iteration 2, loss = 0.45960701\n",
      "Validation score: 0.901833\n",
      "Iteration 3, loss = 0.35331626\n",
      "Validation score: 0.917167\n",
      "Iteration 4, loss = 0.28907934\n",
      "Validation score: 0.928500\n",
      "Iteration 5, loss = 0.24287087\n",
      "Validation score: 0.935333\n",
      "Iteration 6, loss = 0.20555253\n",
      "Validation score: 0.943667\n",
      "Iteration 7, loss = 0.17571264\n",
      "Validation score: 0.948333\n",
      "Iteration 8, loss = 0.15413013\n",
      "Validation score: 0.949500\n",
      "Iteration 9, loss = 0.13789178\n",
      "Validation score: 0.949167\n",
      "Iteration 10, loss = 0.12147289\n",
      "Validation score: 0.954000\n",
      "Iteration 11, loss = 0.10922982\n",
      "Validation score: 0.956667\n",
      "Iteration 12, loss = 0.09765925\n",
      "Validation score: 0.958167\n",
      "Iteration 13, loss = 0.08774177\n",
      "Validation score: 0.957500\n",
      "Iteration 14, loss = 0.07996434\n",
      "Validation score: 0.955000\n",
      "Iteration 15, loss = 0.07241579\n",
      "Validation score: 0.959667\n",
      "Iteration 16, loss = 0.06492255\n",
      "Validation score: 0.960500\n",
      "Iteration 17, loss = 0.05838673\n",
      "Validation score: 0.960500\n",
      "Iteration 18, loss = 0.05256599\n",
      "Validation score: 0.959833\n",
      "Iteration 19, loss = 0.04681954\n",
      "Validation score: 0.961667\n",
      "Iteration 20, loss = 0.04231982\n",
      "Validation score: 0.959333\n",
      "Iteration 21, loss = 0.03739870\n",
      "Validation score: 0.960667\n",
      "Iteration 22, loss = 0.03435198\n",
      "Validation score: 0.961500\n",
      "Iteration 23, loss = 0.03092655\n",
      "Validation score: 0.961333\n",
      "Iteration 24, loss = 0.02767468\n",
      "Validation score: 0.960833\n",
      "Iteration 25, loss = 0.02548674\n",
      "Validation score: 0.962500\n",
      "Iteration 26, loss = 0.02270988\n",
      "Validation score: 0.962167\n",
      "Iteration 27, loss = 0.02008755\n",
      "Validation score: 0.961000\n",
      "Iteration 28, loss = 0.01848959\n",
      "Validation score: 0.959167\n",
      "Iteration 29, loss = 0.01847023\n",
      "Validation score: 0.960500\n",
      "Iteration 30, loss = 0.01575354\n",
      "Validation score: 0.962333\n",
      "Iteration 31, loss = 0.01127225\n",
      "Validation score: 0.962167\n",
      "Iteration 32, loss = 0.01043627\n",
      "Validation score: 0.961667\n",
      "Iteration 33, loss = 0.00945649\n",
      "Validation score: 0.962167\n",
      "Iteration 34, loss = 0.00825270\n",
      "Validation score: 0.963667\n",
      "Iteration 35, loss = 0.00986000\n",
      "Validation score: 0.959167\n",
      "Iteration 36, loss = 0.01058103\n",
      "Validation score: 0.962500\n",
      "Iteration 37, loss = 0.00808182\n",
      "Validation score: 0.964167\n",
      "Iteration 38, loss = 0.00521782\n",
      "Validation score: 0.962500\n",
      "Iteration 39, loss = 0.00401216\n",
      "Validation score: 0.964000\n",
      "Iteration 40, loss = 0.00362912\n",
      "Validation score: 0.961167\n",
      "Iteration 41, loss = 0.01342880\n",
      "Validation score: 0.950333\n",
      "Iteration 42, loss = 0.02087309\n",
      "Validation score: 0.961667\n",
      "Iteration 43, loss = 0.00716280\n",
      "Validation score: 0.964000\n",
      "Iteration 44, loss = 0.00275517\n",
      "Validation score: 0.963833\n",
      "Iteration 45, loss = 0.00201482\n",
      "Validation score: 0.964333\n",
      "Iteration 46, loss = 0.00176597\n",
      "Validation score: 0.964500\n",
      "Iteration 47, loss = 0.00157626\n",
      "Validation score: 0.965000\n",
      "Iteration 48, loss = 0.00144756\n",
      "Validation score: 0.964167\n",
      "Iteration 49, loss = 0.00134197\n",
      "Validation score: 0.964167\n",
      "Iteration 50, loss = 0.00128010\n",
      "Validation score: 0.964500\n",
      "Iteration 51, loss = 0.00122136\n",
      "Validation score: 0.964167\n",
      "Iteration 52, loss = 0.00126058\n",
      "Validation score: 0.963000\n",
      "Iteration 53, loss = 0.04253935\n",
      "Validation score: 0.963500\n",
      "Iteration 54, loss = 0.00780731\n",
      "Validation score: 0.964333\n",
      "Iteration 55, loss = 0.00334642\n",
      "Validation score: 0.965000\n",
      "Iteration 56, loss = 0.00167251\n",
      "Validation score: 0.965667\n",
      "Iteration 57, loss = 0.00130664\n",
      "Validation score: 0.965667\n",
      "Iteration 58, loss = 0.00118246\n",
      "Validation score: 0.965667\n",
      "Iteration 59, loss = 0.00111332\n",
      "Validation score: 0.965167\n",
      "Iteration 60, loss = 0.00104692\n",
      "Validation score: 0.964333\n",
      "Iteration 61, loss = 0.00100812\n",
      "Validation score: 0.964667\n",
      "Iteration 62, loss = 0.00096476\n",
      "Validation score: 0.964500\n",
      "Iteration 63, loss = 0.00092543\n",
      "Validation score: 0.964500\n",
      "Iteration 64, loss = 0.00088987\n",
      "Validation score: 0.964000\n",
      "Iteration 65, loss = 0.00086838\n",
      "Validation score: 0.964000\n",
      "Iteration 66, loss = 0.00084217\n",
      "Validation score: 0.964667\n",
      "Iteration 67, loss = 0.00081246\n",
      "Validation score: 0.964667\n",
      "Validation score did not improve more than tol=0.000100 for 10 consecutive epochs. Stopping.\n"
     ]
    },
    {
     "data": {
      "text/plain": [
       "MLPClassifier(activation='relu', alpha=0.0001, batch_size='auto', beta_1=0.9,\n",
       "              beta_2=0.999, early_stopping=True, epsilon=1e-08,\n",
       "              hidden_layer_sizes=(64, 64), learning_rate='constant',\n",
       "              learning_rate_init=0.001, max_fun=15000, max_iter=500,\n",
       "              momentum=0.9, n_iter_no_change=10, nesterovs_momentum=True,\n",
       "              power_t=0.5, random_state=10, shuffle=True, solver='adam',\n",
       "              tol=0.0001, validation_fraction=0.1, verbose=True,\n",
       "              warm_start=False)"
      ]
     },
     "execution_count": 21,
     "metadata": {},
     "output_type": "execute_result"
    }
   ],
   "source": [
    "# Trying with 2 hidden layers with 64 neurons each.\n",
    "rs_model = MLPClassifier(verbose=True,\n",
    "                         random_state=10,\n",
    "                         shuffle=True,\n",
    "                         early_stopping=True,\n",
    "                         max_iter=500,\n",
    "                         hidden_layer_sizes=(64,64))\n",
    "\n",
    "rs_model.fit(x_train, y_train_encoded)"
   ]
  },
  {
   "cell_type": "code",
   "execution_count": 22,
   "metadata": {},
   "outputs": [
    {
     "data": {
      "text/plain": [
       "0.9685"
      ]
     },
     "execution_count": 22,
     "metadata": {},
     "output_type": "execute_result"
    }
   ],
   "source": [
    "rs_model.score(x_test, y_test_encoded)"
   ]
  },
  {
   "cell_type": "code",
   "execution_count": 23,
   "metadata": {},
   "outputs": [
    {
     "name": "stdout",
     "output_type": "stream",
     "text": [
      "Iteration 1, loss = 1.25031411\n",
      "Validation score: 0.881167\n",
      "Iteration 2, loss = 0.39774475\n",
      "Validation score: 0.914500\n",
      "Iteration 3, loss = 0.28750595\n",
      "Validation score: 0.932667\n",
      "Iteration 4, loss = 0.23771375\n",
      "Validation score: 0.938667\n",
      "Iteration 5, loss = 0.19866518\n",
      "Validation score: 0.945333\n",
      "Iteration 6, loss = 0.17428167\n",
      "Validation score: 0.947667\n",
      "Iteration 7, loss = 0.15193380\n",
      "Validation score: 0.953500\n",
      "Iteration 8, loss = 0.13335148\n",
      "Validation score: 0.955333\n",
      "Iteration 9, loss = 0.11977912\n",
      "Validation score: 0.953833\n",
      "Iteration 10, loss = 0.10611787\n",
      "Validation score: 0.957667\n",
      "Iteration 11, loss = 0.09743947\n",
      "Validation score: 0.956833\n",
      "Iteration 12, loss = 0.08625189\n",
      "Validation score: 0.958833\n",
      "Iteration 13, loss = 0.07766887\n",
      "Validation score: 0.960167\n",
      "Iteration 14, loss = 0.07090006\n",
      "Validation score: 0.960500\n",
      "Iteration 15, loss = 0.06351310\n",
      "Validation score: 0.958500\n",
      "Iteration 16, loss = 0.05460646\n",
      "Validation score: 0.959000\n",
      "Iteration 17, loss = 0.05223510\n",
      "Validation score: 0.960500\n",
      "Iteration 18, loss = 0.04696377\n",
      "Validation score: 0.962000\n",
      "Iteration 19, loss = 0.03998097\n",
      "Validation score: 0.963333\n",
      "Iteration 20, loss = 0.03593551\n",
      "Validation score: 0.960167\n",
      "Iteration 21, loss = 0.03487677\n",
      "Validation score: 0.959667\n",
      "Iteration 22, loss = 0.03136123\n",
      "Validation score: 0.963833\n",
      "Iteration 23, loss = 0.02612266\n",
      "Validation score: 0.960500\n",
      "Iteration 24, loss = 0.02396438\n",
      "Validation score: 0.965000\n",
      "Iteration 25, loss = 0.02351827\n",
      "Validation score: 0.961500\n",
      "Iteration 26, loss = 0.02430074\n",
      "Validation score: 0.962167\n",
      "Iteration 27, loss = 0.01950330\n",
      "Validation score: 0.960333\n",
      "Iteration 28, loss = 0.01676981\n",
      "Validation score: 0.960667\n",
      "Iteration 29, loss = 0.02250973\n",
      "Validation score: 0.964000\n",
      "Iteration 30, loss = 0.01347214\n",
      "Validation score: 0.961500\n",
      "Iteration 31, loss = 0.01330769\n",
      "Validation score: 0.962000\n",
      "Iteration 32, loss = 0.01101806\n",
      "Validation score: 0.963833\n",
      "Iteration 33, loss = 0.01372492\n",
      "Validation score: 0.960333\n",
      "Iteration 34, loss = 0.01616746\n",
      "Validation score: 0.962333\n",
      "Iteration 35, loss = 0.00919494\n",
      "Validation score: 0.964333\n",
      "Validation score did not improve more than tol=0.000100 for 10 consecutive epochs. Stopping.\n"
     ]
    },
    {
     "data": {
      "text/plain": [
       "MLPClassifier(activation='relu', alpha=0.0001, batch_size='auto', beta_1=0.9,\n",
       "              beta_2=0.999, early_stopping=True, epsilon=1e-08,\n",
       "              hidden_layer_sizes=(64, 64, 64), learning_rate='constant',\n",
       "              learning_rate_init=0.001, max_fun=15000, max_iter=500,\n",
       "              momentum=0.9, n_iter_no_change=10, nesterovs_momentum=True,\n",
       "              power_t=0.5, random_state=10, shuffle=True, solver='adam',\n",
       "              tol=0.0001, validation_fraction=0.1, verbose=True,\n",
       "              warm_start=False)"
      ]
     },
     "execution_count": 23,
     "metadata": {},
     "output_type": "execute_result"
    }
   ],
   "source": [
    "# Trying with 3 hidden layers of 64 neurons each.\n",
    "rs2_model = MLPClassifier(verbose=True,\n",
    "                         random_state=10,\n",
    "                         shuffle=True,\n",
    "                         early_stopping=True,\n",
    "                         max_iter=500,\n",
    "                         hidden_layer_sizes=(64,64,64))\n",
    "\n",
    "rs2_model.fit(x_train, y_train_encoded)"
   ]
  },
  {
   "cell_type": "code",
   "execution_count": 24,
   "metadata": {},
   "outputs": [
    {
     "data": {
      "text/plain": [
       "0.9662"
      ]
     },
     "execution_count": 24,
     "metadata": {},
     "output_type": "execute_result"
    }
   ],
   "source": [
    "rs2_model.score(x_test, y_test_encoded)"
   ]
  },
  {
   "cell_type": "code",
   "execution_count": 32,
   "metadata": {},
   "outputs": [
    {
     "name": "stdout",
     "output_type": "stream",
     "text": [
      "Iteration 1, loss = 1.15164973\n",
      "Validation score: 0.879333\n",
      "Iteration 2, loss = 0.38877370\n",
      "Validation score: 0.919500\n",
      "Iteration 3, loss = 0.27602625\n",
      "Validation score: 0.937000\n",
      "Iteration 4, loss = 0.21478609\n",
      "Validation score: 0.946333\n",
      "Iteration 5, loss = 0.17170477\n",
      "Validation score: 0.954667\n",
      "Iteration 6, loss = 0.14275587\n",
      "Validation score: 0.957667\n",
      "Iteration 7, loss = 0.12000565\n",
      "Validation score: 0.958333\n",
      "Iteration 8, loss = 0.10137834\n",
      "Validation score: 0.959000\n",
      "Iteration 9, loss = 0.08649727\n",
      "Validation score: 0.963667\n",
      "Iteration 10, loss = 0.07277177\n",
      "Validation score: 0.964500\n",
      "Iteration 11, loss = 0.06113390\n",
      "Validation score: 0.963167\n",
      "Iteration 12, loss = 0.05224151\n",
      "Validation score: 0.963833\n",
      "Iteration 13, loss = 0.04461838\n",
      "Validation score: 0.966333\n",
      "Iteration 14, loss = 0.03655666\n",
      "Validation score: 0.966833\n",
      "Iteration 15, loss = 0.03066144\n",
      "Validation score: 0.966833\n",
      "Iteration 16, loss = 0.02566038\n",
      "Validation score: 0.965500\n",
      "Iteration 17, loss = 0.02210491\n",
      "Validation score: 0.969667\n",
      "Iteration 18, loss = 0.01854012\n",
      "Validation score: 0.969833\n",
      "Iteration 19, loss = 0.01606761\n",
      "Validation score: 0.969833\n",
      "Iteration 20, loss = 0.01313849\n",
      "Validation score: 0.969667\n",
      "Iteration 21, loss = 0.01076759\n",
      "Validation score: 0.967833\n",
      "Iteration 22, loss = 0.01031273\n",
      "Validation score: 0.970333\n",
      "Iteration 23, loss = 0.00805690\n",
      "Validation score: 0.970000\n",
      "Iteration 24, loss = 0.00932164\n",
      "Validation score: 0.968667\n",
      "Iteration 25, loss = 0.00825379\n",
      "Validation score: 0.970333\n",
      "Iteration 26, loss = 0.01120837\n",
      "Validation score: 0.967500\n",
      "Iteration 27, loss = 0.01908301\n",
      "Validation score: 0.971500\n",
      "Iteration 28, loss = 0.00467552\n",
      "Validation score: 0.973167\n",
      "Iteration 29, loss = 0.00219842\n",
      "Validation score: 0.973000\n",
      "Iteration 30, loss = 0.00159389\n",
      "Validation score: 0.972667\n",
      "Iteration 31, loss = 0.00136721\n",
      "Validation score: 0.972833\n",
      "Iteration 32, loss = 0.00124398\n",
      "Validation score: 0.972000\n",
      "Iteration 33, loss = 0.00113487\n",
      "Validation score: 0.972500\n",
      "Iteration 34, loss = 0.00105555\n",
      "Validation score: 0.971667\n",
      "Iteration 35, loss = 0.00099131\n",
      "Validation score: 0.972667\n",
      "Iteration 36, loss = 0.00096591\n",
      "Validation score: 0.972667\n",
      "Iteration 37, loss = 0.00087600\n",
      "Validation score: 0.972167\n",
      "Iteration 38, loss = 0.02562057\n",
      "Validation score: 0.957000\n",
      "Iteration 39, loss = 0.03413085\n",
      "Validation score: 0.970167\n",
      "Validation score did not improve more than tol=0.000100 for 10 consecutive epochs. Stopping.\n"
     ]
    },
    {
     "data": {
      "text/plain": [
       "MLPClassifier(activation='relu', alpha=0.0001, batch_size='auto', beta_1=0.9,\n",
       "              beta_2=0.999, early_stopping=True, epsilon=1e-08,\n",
       "              hidden_layer_sizes=(128, 128), learning_rate='constant',\n",
       "              learning_rate_init=0.001, max_fun=15000, max_iter=500,\n",
       "              momentum=0.9, n_iter_no_change=10, nesterovs_momentum=True,\n",
       "              power_t=0.5, random_state=10, shuffle=True, solver='adam',\n",
       "              tol=0.0001, validation_fraction=0.1, verbose=True,\n",
       "              warm_start=False)"
      ]
     },
     "execution_count": 32,
     "metadata": {},
     "output_type": "execute_result"
    }
   ],
   "source": [
    "# Trying with 2 hidden layers of 128 neurons each.\n",
    "rs3_model = MLPClassifier(verbose=True,\n",
    "                         random_state=10,\n",
    "                         shuffle=True,\n",
    "                         early_stopping=True,\n",
    "                         max_iter=500,\n",
    "                         hidden_layer_sizes=(128,128))\n",
    "\n",
    "rs3_model.fit(x_train, y_train_encoded)"
   ]
  },
  {
   "cell_type": "code",
   "execution_count": 33,
   "metadata": {},
   "outputs": [
    {
     "data": {
      "text/plain": [
       "0.9715"
      ]
     },
     "execution_count": 33,
     "metadata": {},
     "output_type": "execute_result"
    }
   ],
   "source": [
    "rs3_model.score(x_test, y_test_encoded)"
   ]
  },
  {
   "cell_type": "code",
   "execution_count": 34,
   "metadata": {},
   "outputs": [
    {
     "name": "stdout",
     "output_type": "stream",
     "text": [
      "Iteration 1, loss = 1.00483010\n",
      "Validation score: 0.863500\n",
      "Iteration 2, loss = 0.42865584\n",
      "Validation score: 0.911500\n",
      "Iteration 3, loss = 0.31571957\n",
      "Validation score: 0.925833\n",
      "Iteration 4, loss = 0.25139626\n",
      "Validation score: 0.941167\n",
      "Iteration 5, loss = 0.20938517\n",
      "Validation score: 0.947000\n",
      "Iteration 6, loss = 0.17679760\n",
      "Validation score: 0.952667\n",
      "Iteration 7, loss = 0.15200095\n",
      "Validation score: 0.955000\n",
      "Iteration 8, loss = 0.13335590\n",
      "Validation score: 0.959833\n",
      "Iteration 9, loss = 0.11649757\n",
      "Validation score: 0.959333\n",
      "Iteration 10, loss = 0.10237136\n",
      "Validation score: 0.960667\n",
      "Iteration 11, loss = 0.09012821\n",
      "Validation score: 0.961500\n",
      "Iteration 12, loss = 0.07989210\n",
      "Validation score: 0.962833\n",
      "Iteration 13, loss = 0.06972146\n",
      "Validation score: 0.963667\n",
      "Iteration 14, loss = 0.06062473\n",
      "Validation score: 0.964833\n",
      "Iteration 15, loss = 0.05434749\n",
      "Validation score: 0.961667\n",
      "Iteration 16, loss = 0.04797836\n",
      "Validation score: 0.965000\n",
      "Iteration 17, loss = 0.04173196\n",
      "Validation score: 0.965167\n",
      "Iteration 18, loss = 0.03670496\n",
      "Validation score: 0.965333\n",
      "Iteration 19, loss = 0.03171037\n",
      "Validation score: 0.965000\n",
      "Iteration 20, loss = 0.02888682\n",
      "Validation score: 0.966500\n",
      "Iteration 21, loss = 0.02434514\n",
      "Validation score: 0.965833\n",
      "Iteration 22, loss = 0.02125023\n",
      "Validation score: 0.965167\n",
      "Iteration 23, loss = 0.01848943\n",
      "Validation score: 0.967167\n",
      "Iteration 24, loss = 0.01585983\n",
      "Validation score: 0.967333\n",
      "Iteration 25, loss = 0.01387484\n",
      "Validation score: 0.966333\n",
      "Iteration 26, loss = 0.01212778\n",
      "Validation score: 0.968000\n",
      "Iteration 27, loss = 0.01040808\n",
      "Validation score: 0.966167\n",
      "Iteration 28, loss = 0.00954339\n",
      "Validation score: 0.966000\n",
      "Iteration 29, loss = 0.00897472\n",
      "Validation score: 0.967833\n",
      "Iteration 30, loss = 0.00760569\n",
      "Validation score: 0.965667\n",
      "Iteration 31, loss = 0.00648392\n",
      "Validation score: 0.966667\n",
      "Iteration 32, loss = 0.00583629\n",
      "Validation score: 0.967667\n",
      "Iteration 33, loss = 0.00544196\n",
      "Validation score: 0.965333\n",
      "Iteration 34, loss = 0.00584606\n",
      "Validation score: 0.965667\n",
      "Iteration 35, loss = 0.00489368\n",
      "Validation score: 0.966167\n",
      "Iteration 36, loss = 0.00390714\n",
      "Validation score: 0.967667\n",
      "Iteration 37, loss = 0.00335299\n",
      "Validation score: 0.967000\n",
      "Validation score did not improve more than tol=0.000100 for 10 consecutive epochs. Stopping.\n"
     ]
    },
    {
     "data": {
      "text/plain": [
       "MLPClassifier(activation='relu', alpha=0.0001, batch_size='auto', beta_1=0.9,\n",
       "              beta_2=0.999, early_stopping=True, epsilon=1e-08,\n",
       "              hidden_layer_sizes=256, learning_rate='constant',\n",
       "              learning_rate_init=0.001, max_fun=15000, max_iter=500,\n",
       "              momentum=0.9, n_iter_no_change=10, nesterovs_momentum=True,\n",
       "              power_t=0.5, random_state=10, shuffle=True, solver='adam',\n",
       "              tol=0.0001, validation_fraction=0.1, verbose=True,\n",
       "              warm_start=False)"
      ]
     },
     "execution_count": 34,
     "metadata": {},
     "output_type": "execute_result"
    }
   ],
   "source": [
    "# Trying with 1 hidden layer with 256 neurons.\n",
    "rs4_model = MLPClassifier(verbose=True,\n",
    "                         random_state=10,\n",
    "                         shuffle=True,\n",
    "                         early_stopping=True,\n",
    "                         max_iter=500,\n",
    "                         hidden_layer_sizes=(256))\n",
    "\n",
    "rs4_model.fit(x_train, y_train_encoded)"
   ]
  },
  {
   "cell_type": "code",
   "execution_count": 35,
   "metadata": {},
   "outputs": [
    {
     "data": {
      "text/plain": [
       "0.9653"
      ]
     },
     "execution_count": 35,
     "metadata": {},
     "output_type": "execute_result"
    }
   ],
   "source": [
    "rs4_model.score(x_test, y_test_encoded)"
   ]
  },
  {
   "cell_type": "code",
   "execution_count": 36,
   "metadata": {},
   "outputs": [
    {
     "name": "stdout",
     "output_type": "stream",
     "text": [
      "Iteration 1, loss = 0.87889413\n",
      "Validation score: 0.915500\n",
      "Iteration 2, loss = 0.28682241\n",
      "Validation score: 0.944667\n",
      "Iteration 3, loss = 0.19005111\n",
      "Validation score: 0.956167\n",
      "Iteration 4, loss = 0.13739519\n",
      "Validation score: 0.960000\n",
      "Iteration 5, loss = 0.10355133\n",
      "Validation score: 0.962667\n",
      "Iteration 6, loss = 0.07971110\n",
      "Validation score: 0.964500\n",
      "Iteration 7, loss = 0.06242294\n",
      "Validation score: 0.969500\n",
      "Iteration 8, loss = 0.04857640\n",
      "Validation score: 0.968000\n",
      "Iteration 9, loss = 0.03702180\n",
      "Validation score: 0.967167\n",
      "Iteration 10, loss = 0.02713969\n",
      "Validation score: 0.968833\n",
      "Iteration 11, loss = 0.02209002\n",
      "Validation score: 0.966667\n",
      "Iteration 12, loss = 0.01864678\n",
      "Validation score: 0.968833\n",
      "Iteration 13, loss = 0.01344290\n",
      "Validation score: 0.970500\n",
      "Iteration 14, loss = 0.01041717\n",
      "Validation score: 0.968333\n",
      "Iteration 15, loss = 0.00845461\n",
      "Validation score: 0.970833\n",
      "Iteration 16, loss = 0.00741134\n",
      "Validation score: 0.971000\n",
      "Iteration 17, loss = 0.01034129\n",
      "Validation score: 0.969167\n",
      "Iteration 18, loss = 0.01743998\n",
      "Validation score: 0.970000\n",
      "Iteration 19, loss = 0.00816844\n",
      "Validation score: 0.971833\n",
      "Iteration 20, loss = 0.00588118\n",
      "Validation score: 0.970667\n",
      "Iteration 21, loss = 0.00772995\n",
      "Validation score: 0.971167\n",
      "Iteration 22, loss = 0.01816297\n",
      "Validation score: 0.965000\n",
      "Iteration 23, loss = 0.01036144\n",
      "Validation score: 0.970000\n",
      "Iteration 24, loss = 0.00402693\n",
      "Validation score: 0.974667\n",
      "Iteration 25, loss = 0.00321729\n",
      "Validation score: 0.974000\n",
      "Iteration 26, loss = 0.00133705\n",
      "Validation score: 0.976000\n",
      "Iteration 27, loss = 0.00090853\n",
      "Validation score: 0.976000\n",
      "Iteration 28, loss = 0.00084938\n",
      "Validation score: 0.975833\n",
      "Iteration 29, loss = 0.00081332\n",
      "Validation score: 0.976167\n",
      "Iteration 30, loss = 0.00078668\n",
      "Validation score: 0.975667\n",
      "Iteration 31, loss = 0.00076626\n",
      "Validation score: 0.975833\n",
      "Iteration 32, loss = 0.00074838\n",
      "Validation score: 0.975167\n",
      "Iteration 33, loss = 0.00073283\n",
      "Validation score: 0.975667\n",
      "Iteration 34, loss = 0.00071918\n",
      "Validation score: 0.975500\n",
      "Iteration 35, loss = 0.00070585\n",
      "Validation score: 0.975333\n",
      "Iteration 36, loss = 0.00069381\n",
      "Validation score: 0.975500\n",
      "Iteration 37, loss = 0.00068107\n",
      "Validation score: 0.976000\n",
      "Iteration 38, loss = 0.00067113\n",
      "Validation score: 0.975333\n",
      "Iteration 39, loss = 0.00065991\n",
      "Validation score: 0.974833\n",
      "Iteration 40, loss = 0.00064938\n",
      "Validation score: 0.975167\n",
      "Validation score did not improve more than tol=0.000100 for 10 consecutive epochs. Stopping.\n"
     ]
    },
    {
     "data": {
      "text/plain": [
       "MLPClassifier(activation='relu', alpha=0.0001, batch_size='auto', beta_1=0.9,\n",
       "              beta_2=0.999, early_stopping=True, epsilon=1e-08,\n",
       "              hidden_layer_sizes=(256, 256), learning_rate='constant',\n",
       "              learning_rate_init=0.001, max_fun=15000, max_iter=500,\n",
       "              momentum=0.9, n_iter_no_change=10, nesterovs_momentum=True,\n",
       "              power_t=0.5, random_state=10, shuffle=True, solver='adam',\n",
       "              tol=0.0001, validation_fraction=0.1, verbose=True,\n",
       "              warm_start=False)"
      ]
     },
     "execution_count": 36,
     "metadata": {},
     "output_type": "execute_result"
    }
   ],
   "source": [
    "# Trying with 2 hidden layers of 256 neurons each.\n",
    "rs5_model = MLPClassifier(verbose=True,\n",
    "                         random_state=10,\n",
    "                         shuffle=True,\n",
    "                         early_stopping=True,\n",
    "                         max_iter=500,\n",
    "                         hidden_layer_sizes=(256,256))\n",
    "\n",
    "rs5_model.fit(x_train, y_train_encoded)"
   ]
  },
  {
   "cell_type": "code",
   "execution_count": 37,
   "metadata": {},
   "outputs": [
    {
     "data": {
      "text/plain": [
       "0.9762"
      ]
     },
     "execution_count": 37,
     "metadata": {},
     "output_type": "execute_result"
    }
   ],
   "source": [
    "rs5_model.score(x_test, y_test_encoded)"
   ]
  },
  {
   "cell_type": "code",
   "execution_count": 38,
   "metadata": {},
   "outputs": [
    {
     "data": {
      "text/plain": [
       "['digit_classifier_t2_6464.joblib']"
      ]
     },
     "execution_count": 38,
     "metadata": {},
     "output_type": "execute_result"
    }
   ],
   "source": [
    "dump(rs_model, 'digit_classifier_t2_6464.joblib')"
   ]
  },
  {
   "cell_type": "code",
   "execution_count": 39,
   "metadata": {},
   "outputs": [
    {
     "data": {
      "text/plain": [
       "['digit_classifier_t2_128128.joblib']"
      ]
     },
     "execution_count": 39,
     "metadata": {},
     "output_type": "execute_result"
    }
   ],
   "source": [
    "dump(rs3_model, 'digit_classifier_t2_128128.joblib')"
   ]
  },
  {
   "cell_type": "code",
   "execution_count": 40,
   "metadata": {},
   "outputs": [
    {
     "data": {
      "text/plain": [
       "['digit_classifier_t2_256256.joblib']"
      ]
     },
     "execution_count": 40,
     "metadata": {},
     "output_type": "execute_result"
    }
   ],
   "source": [
    "dump(rs5_model, 'digit_classifier_t2_256256.joblib')"
   ]
  },
  {
   "cell_type": "code",
   "execution_count": 90,
   "metadata": {},
   "outputs": [],
   "source": [
    "IMG_PATH = 'test_img/test.png'"
   ]
  },
  {
   "cell_type": "code",
   "execution_count": 157,
   "metadata": {},
   "outputs": [
    {
     "data": {
      "image/png": "[encoded data removed]",
      "text/plain": [
       "<PIL.Image.Image image mode=L size=28x28 at 0x27806FD9CA0>"
      ]
     },
     "execution_count": 157,
     "metadata": {},
     "output_type": "execute_result"
    }
   ],
   "source": [
    "show_image(IMG_PATH)"
   ]
  },
  {
   "cell_type": "code",
   "execution_count": 158,
   "metadata": {},
   "outputs": [
    {
     "data": {
      "text/plain": [
       "0"
      ]
     },
     "execution_count": 158,
     "metadata": {},
     "output_type": "execute_result"
    }
   ],
   "source": [
    "process_pred(rs5_model.predict(process_image(IMG_PATH)))"
   ]
  },
  {
   "cell_type": "code",
   "execution_count": 159,
   "metadata": {},
   "outputs": [
    {
     "data": {
      "text/plain": [
       "9"
      ]
     },
     "execution_count": 159,
     "metadata": {},
     "output_type": "execute_result"
    }
   ],
   "source": [
    "process_pred(model.predict(process_image(IMG_PATH)))"
   ]
  },
  {
   "cell_type": "code",
   "execution_count": null,
   "metadata": {},
   "outputs": [],
   "source": []
  }
 ],
 "metadata": {
  "kernelspec": {
   "display_name": "Python 3",
   "language": "python",
   "name": "python3"
  },
  "language_info": {
   "codemirror_mode": {
    "name": "ipython",
    "version": 3
   },
   "file_extension": ".py",
   "mimetype": "text/x-python",
   "name": "python",
   "nbconvert_exporter": "python",
   "pygments_lexer": "ipython3",
   "version": "3.8.1"
  }
 },
 "nbformat": 4,
 "nbformat_minor": 4
}
